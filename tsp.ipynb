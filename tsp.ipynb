{
 "metadata": {
  "orig_nbformat": 2,
  "kernelspec": {
   "name": "python3",
   "display_name": "Python 3.6.9 64-bit ('cuong': conda)",
   "metadata": {
    "interpreter": {
     "hash": "ecc1e4f304a5940980a1abf3c6832677e1614538ae65eb7fd0aa06be02d1615f"
    }
   }
  }
 },
 "nbformat": 4,
 "nbformat_minor": 2,
 "cells": [
  {
   "cell_type": "code",
   "execution_count": 6,
   "metadata": {},
   "outputs": [
    {
     "output_type": "stream",
     "name": "stderr",
     "text": [
      "Matplotlib is building the font cache; this may take a moment.\n"
     ]
    }
   ],
   "source": [
    "from Graph_directed import Graph\n",
    "from GeneticAlgorithmTSP import GeneticAlgorithmTSP\n",
    "import heapq\n",
    "import numpy as np\n",
    "import random\n",
    "import networkx as nx\n",
    "import matplotlib.pyplot as plt\n",
    "import random"
   ]
  },
  {
   "cell_type": "code",
   "execution_count": 7,
   "metadata": {},
   "outputs": [],
   "source": [
    "def generate_data(n,m,l,max_weight = 10, max_len_sfc = 4):\n",
    "    input_graph = Graph({})\n",
    "    sfc = []\n",
    "    if (m > n*(n-1)):\n",
    "        print('Too many vertex')\n",
    "        return\n",
    "    c = 1\n",
    "    list_vertex = []\n",
    "    while c < m:\n",
    "        a = random.randint(1,n)\n",
    "        b = random.randint(1,n)\n",
    "        if (a != b) and ((a,b) not in list_vertex):\n",
    "            list_vertex.append((a,b))\n",
    "            input_graph.setAdjacent(str(a), str(b), random.randint(1,max_weight))\n",
    "            c = c + 1\n",
    "    start,end = random.sample(range(1,n), 2)\n",
    "    input_graph.setStartEnd(start,finish)\n",
    "    sfc.append(start)\n",
    "    for i in range(l):\n",
    "        sfc.append(random.sample(range(1,n), random.randint(1,max_len_sfc) ))\n",
    "    sfc.append(end)\n"
   ]
  },
  {
   "cell_type": "code",
   "execution_count": 8,
   "metadata": {},
   "outputs": [],
   "source": [
    "def abc(a,b,c=10):\n",
    "    print(a , ' ', b , ' ',c)"
   ]
  },
  {
   "cell_type": "code",
   "execution_count": 10,
   "metadata": {},
   "outputs": [],
   "source": [
    "def int_data(data):\n",
    "    out = []\n",
    "    for item in data:\n",
    "        out.append(int(item))\n",
    "    return out"
   ]
  },
  {
   "cell_type": "code",
   "execution_count": 11,
   "metadata": {},
   "outputs": [],
   "source": [
    "input_graph = Graph({})\n",
    "sfc = []\n",
    "with open(\"input.txt\",\"r\") as f:\n",
    "    n,m = int_data(f.readline().split())\n",
    "    for _ in range(m):\n",
    "        a,b,c = f.readline().split()\n",
    "        input_graph.setAdjacent(str(a), str(b), int(c))\n",
    "    start,finish = f.readline().split()\n",
    "    num_sfc = int(f.readline())\n",
    "    sfc.append(start)\n",
    "    for _ in range(num_sfc):\n",
    "        sfc.append(f.readline().split())\n",
    "    sfc.append(finish)\n",
    "input_graph.setStartEnd(start,finish)"
   ]
  },
  {
   "cell_type": "code",
   "execution_count": 12,
   "metadata": {},
   "outputs": [],
   "source": [
    "def dijsktra(graph, initial):\n",
    "  visited = {initial: 0}\n",
    "  path = {}\n",
    "  nodes = set(graph.getVertices())\n",
    "  while nodes: \n",
    "    min_node = None\n",
    "    for node in nodes:\n",
    "      if node in visited:\n",
    "        if min_node is None:\n",
    "          min_node = node\n",
    "        elif visited[node] < visited[min_node]:\n",
    "          min_node = node\n",
    "    if min_node is None:\n",
    "      break\n",
    "    nodes.remove(min_node)\n",
    "    current_weight = visited[min_node]\n",
    "    for edge in graph.getAdjacent(min_node):\n",
    "      weight = current_weight + graph.getDistance(min_node, edge)\n",
    "      if edge not in visited or weight < visited[edge]:\n",
    "        visited[edge] = weight\n",
    "        path[edge] = min_node\n",
    "  return visited, path"
   ]
  },
  {
   "cell_type": "code",
   "execution_count": 13,
   "metadata": {},
   "outputs": [],
   "source": [
    "sfc_item = []\n",
    "for sfc_part in sfc:\n",
    "    for item in sfc_part:\n",
    "        sfc_item.append(item)\n",
    "sfc_item = set(sfc_item)"
   ]
  },
  {
   "cell_type": "code",
   "execution_count": 14,
   "metadata": {},
   "outputs": [],
   "source": [
    "dijsktra_dic = {}\n",
    "dijsktra_path = {}\n",
    "for item in sfc_item:\n",
    "    dijsktra_dic[item] = dijsktra(input_graph,item)[0]\n",
    "    dijsktra_path[item] = dijsktra(input_graph,item)[1]"
   ]
  },
  {
   "cell_type": "code",
   "execution_count": 15,
   "metadata": {},
   "outputs": [
    {
     "output_type": "execute_result",
     "data": {
      "text/plain": [
       "({'1': 0, '2': 3, '3': 1, '4': 4, '5': 2},\n",
       " {'2': '1', '3': '1', '4': '3', '5': '3'})"
      ]
     },
     "metadata": {},
     "execution_count": 15
    }
   ],
   "source": [
    "dijsktra(input_graph,'1')"
   ]
  },
  {
   "cell_type": "code",
   "execution_count": 16,
   "metadata": {},
   "outputs": [],
   "source": [
    "def full_path(path):\n",
    "    fullpath = ''\n",
    "    for i in range(len(path)-1):\n",
    "        tmp = dijsktra_path[path[i]][path[i+1]]\n",
    "        if tmp != path[i]:\n",
    "            fullpath = fullpath + path[i] + tmp\n",
    "        else:\n",
    "            fullpath = fullpath + path[i]\n",
    "    return fullpath + path[-1]"
   ]
  },
  {
   "cell_type": "code",
   "execution_count": 17,
   "metadata": {},
   "outputs": [
    {
     "output_type": "stream",
     "name": "stdout",
     "text": [
      "(1, 2, 3)\t(1, 3, 1)\t(1, 4, 5)\t(2, 5, 5)\t(3, 4, 3)\t(3, 5, 1)\t(4, 3, 1)\t\n"
     ]
    }
   ],
   "source": [
    "print(input_graph)"
   ]
  },
  {
   "cell_type": "code",
   "execution_count": 18,
   "metadata": {},
   "outputs": [
    {
     "output_type": "execute_result",
     "data": {
      "text/plain": [
       "1"
      ]
     },
     "metadata": {},
     "execution_count": 18
    }
   ],
   "source": [
    "input_graph.getDistance('1','3')"
   ]
  },
  {
   "cell_type": "code",
   "execution_count": 19,
   "metadata": {},
   "outputs": [],
   "source": [
    "sfc_graph = Graph({})\n",
    "for i in range(len(sfc)-1):\n",
    "    for vertex in sfc[i]:\n",
    "        for adj in sfc[i+1]:  \n",
    "            try:\n",
    "                sfc_graph.setAdjacent(vertex, adj, dijsktra_dic[vertex][adj])\n",
    "                #print(vertex,' ', adj)\n",
    "            except:\n",
    "                import sys\n",
    "                sfc_graph.setAdjacent(vertex, adj, sys.maxsize)\n",
    "                #print(vertex,' ', adj)"
   ]
  },
  {
   "cell_type": "code",
   "execution_count": 20,
   "metadata": {},
   "outputs": [
    {
     "output_type": "execute_result",
     "data": {
      "text/plain": [
       "<Graph_directed.Graph at 0x21294c64730>"
      ]
     },
     "metadata": {},
     "execution_count": 20
    }
   ],
   "source": [
    "graph = Graph({})\n",
    "graph.setAdjacent('a', 'b', 4)\n",
    "graph.setAdjacent('a', 'c', 4)\n",
    "graph.setAdjacent('a', 'd', 7)\n",
    "graph.setAdjacent('a', 'e', 3)\n",
    "graph.setAdjacent('b', 'c', 2)\n",
    "graph.setAdjacent('b', 'd', 3)\n",
    "graph.setAdjacent('b', 'e', 5)\n",
    "graph.setAdjacent('c', 'd', 2)\n",
    "graph.setAdjacent('c', 'e', 3)\n",
    "graph.setAdjacent('d', 'e', 6)"
   ]
  },
  {
   "cell_type": "code",
   "execution_count": 21,
   "metadata": {},
   "outputs": [
    {
     "output_type": "execute_result",
     "data": {
      "text/plain": [
       "({'b': 0, 'c': 2, 'd': 3, 'e': 5}, {'c': 'b', 'd': 'b', 'e': 'b'})"
      ]
     },
     "metadata": {},
     "execution_count": 21
    }
   ],
   "source": [
    "dijsktra(graph,'b')"
   ]
  },
  {
   "cell_type": "code",
   "execution_count": 97,
   "metadata": {},
   "outputs": [],
   "source": [
    "def draw_way(graph,path):\n",
    "    G = nx.DiGraph(directed=True,format='weighted_adjacency_matrix')\n",
    "    for i in range(len(path)-1):\n",
    "        start = path[i]\n",
    "        target = path[i+1]\n",
    "        G.add_edge(start, target, weight=graph.getDistance(start,target))\n",
    "\n",
    "    # Need to create a layout when doing\n",
    "    options = {\n",
    "        'node_color': 'red',\n",
    "        'node_size': 500,\n",
    "        'width': 3,\n",
    "        'arrowstyle': '-|>',\n",
    "        'arrowsize': 12,\n",
    "    }\n",
    "\n",
    "    pos = nx.spring_layout(G)\n",
    "    nodes = {}\n",
    "    for item in path:\n",
    "        nodes[item] = str(item)\n",
    "    nx.draw_networkx_edges(G,pos, connectionstyle='arc3, rad = 0.3', alpha=0.2)\n",
    "    nx.draw_networkx_labels(G,pos,nodes,font_size=16,font_color='r')\n",
    "    plt.savefig(\"output/Graph.png\", format=\"PNG\")\n",
    "    # plt.show()"
   ]
  },
  {
   "cell_type": "code",
   "execution_count": 92,
   "metadata": {},
   "outputs": [],
   "source": [
    "def draw_graph(graph):\n",
    "    G = nx.DiGraph(directed=True,format='weighted_adjacency_matrix')\n",
    "    for key in input_graph.graph.keys():\n",
    "        value = input_graph.graph[key]\n",
    "        for key2 in value.keys():\n",
    "            G.add_edge(key, key2, weight=graph.getDistance(key,key2))\n",
    "    # Need to create a layout when doing\n",
    "    options = {\n",
    "        'node_color': 'red',\n",
    "        'node_size': 500,\n",
    "        'width': 3,\n",
    "        'arrowstyle': '-|>',\n",
    "        'arrowsize': 12,\n",
    "        # 'edge_labels':True,\n",
    "        #  'graph_border':True\n",
    "    }\n",
    "\n",
    "    #pos = nx.spring_layout(G)\n",
    "    #nx.draw_networkx(G, arrows=True, **options)\n",
    "    pos = nx.spring_layout(G)\n",
    "    emp = input_graph.getVertices()\n",
    "    nodes = {}\n",
    "    for item in emp:\n",
    "        nodes[item] = str(item)\n",
    "# Here there is the addition:\n",
    "\n",
    "    edge_labels = dict([((u,v), round(d['weight'], 3))\n",
    "             for u,v,d in G.edges(data=True)])\n",
    "\n",
    "    #nx.draw_networkx_edge_labels(G,pos,edge_labels=edge_labels,label_pos=0.15, font_size=10)\n",
    "    nx.draw_networkx_edges(G,pos, connectionstyle='arc3, rad = 0.3', alpha=0.2)\n",
    "    nx.draw_networkx_labels(G,pos,nodes,font_size=20,font_color='r')\n",
    "    # plt.axis('off')\n",
    "    # plt.show()\n",
    "    #plt.show()\n",
    "    #H = G.plot(edge_labels=True, graph_border=True)\n",
    "    #H.show()"
   ]
  },
  {
   "cell_type": "code",
   "execution_count": 93,
   "metadata": {},
   "outputs": [
    {
     "output_type": "display_data",
     "data": {
      "text/plain": "<Figure size 432x288 with 1 Axes>",
      "image/svg+xml": "<?xml version=\"1.0\" encoding=\"utf-8\" standalone=\"no\"?>\r\n<!DOCTYPE svg PUBLIC \"-//W3C//DTD SVG 1.1//EN\"\r\n  \"http://www.w3.org/Graphics/SVG/1.1/DTD/svg11.dtd\">\r\n<!-- Created with matplotlib (https://matplotlib.org/) -->\r\n<svg height=\"231.84pt\" version=\"1.1\" viewBox=\"0 0 349.2 231.84\" width=\"349.2pt\" xmlns=\"http://www.w3.org/2000/svg\" xmlns:xlink=\"http://www.w3.org/1999/xlink\">\r\n <metadata>\r\n  <rdf:RDF xmlns:cc=\"http://creativecommons.org/ns#\" xmlns:dc=\"http://purl.org/dc/elements/1.1/\" xmlns:rdf=\"http://www.w3.org/1999/02/22-rdf-syntax-ns#\">\r\n   <cc:Work>\r\n    <dc:type rdf:resource=\"http://purl.org/dc/dcmitype/StillImage\"/>\r\n    <dc:date>2020-12-03T09:10:16.337421</dc:date>\r\n    <dc:format>image/svg+xml</dc:format>\r\n    <dc:creator>\r\n     <cc:Agent>\r\n      <dc:title>Matplotlib v3.3.2, https://matplotlib.org/</dc:title>\r\n     </cc:Agent>\r\n    </dc:creator>\r\n   </cc:Work>\r\n  </rdf:RDF>\r\n </metadata>\r\n <defs>\r\n  <style type=\"text/css\">*{stroke-linecap:butt;stroke-linejoin:round;}</style>\r\n </defs>\r\n <g id=\"figure_1\">\r\n  <g id=\"patch_1\">\r\n   <path d=\"M 0 231.84 \r\nL 349.2 231.84 \r\nL 349.2 0 \r\nL 0 0 \r\nz\r\n\" style=\"fill:none;\"/>\r\n  </g>\r\n  <g id=\"axes_1\">\r\n   <g id=\"patch_2\">\r\n    <path d=\"M 7.2 224.64 \r\nL 342 224.64 \r\nL 342 7.2 \r\nL 7.2 7.2 \r\nz\r\n\" style=\"fill:#ffffff;\"/>\r\n   </g>\r\n   <g id=\"patch_3\">\r\n    <path clip-path=\"url(#p1412f635a8)\" d=\"M 160.697006 76.549847 \r\nQ 78.22969 84.493349 40.591176 157.040938 \r\n\" style=\"fill:none;stroke:#000000;stroke-linecap:round;stroke-opacity:0.2;\"/>\r\n    <path clip-path=\"url(#p1412f635a8)\" d=\"M 44.208561 154.411389 \r\nL 40.591176 157.040938 \r\nL 40.657968 152.569301 \r\nL 44.208561 154.411389 \r\nz\r\n\" style=\"fill-opacity:0.2;stroke:#000000;stroke-linecap:round;stroke-opacity:0.2;\"/>\r\n   </g>\r\n   <g id=\"patch_4\">\r\n    <path clip-path=\"url(#p1412f635a8)\" d=\"M 176.379561 80.939573 \r\nQ 200.490971 96.241395 226.686986 88.076019 \r\n\" style=\"fill:none;stroke:#000000;stroke-linecap:round;stroke-opacity:0.2;\"/>\r\n    <path clip-path=\"url(#p1412f635a8)\" d=\"M 222.273037 87.356953 \r\nL 226.686986 88.076019 \r\nL 223.463364 91.175738 \r\nL 222.273037 87.356953 \r\nz\r\n\" style=\"fill-opacity:0.2;stroke:#000000;stroke-linecap:round;stroke-opacity:0.2;\"/>\r\n   </g>\r\n   <g id=\"patch_5\">\r\n    <path clip-path=\"url(#p1412f635a8)\" d=\"M 177.844279 77.49139 \r\nQ 254.681942 90.018124 306.489968 33.414768 \r\n\" style=\"fill:none;stroke:#000000;stroke-linecap:round;stroke-opacity:0.2;\"/>\r\n    <path clip-path=\"url(#p1412f635a8)\" d=\"M 302.313965 35.015081 \r\nL 306.489968 33.414768 \r\nL 305.264616 37.715758 \r\nL 302.313965 35.015081 \r\nz\r\n\" style=\"fill-opacity:0.2;stroke:#000000;stroke-linecap:round;stroke-opacity:0.2;\"/>\r\n   </g>\r\n   <g id=\"patch_6\">\r\n    <path clip-path=\"url(#p1412f635a8)\" d=\"M 37.285981 174.405287 \r\nQ 40.765165 191.591168 54.323892 200.846778 \r\n\" style=\"fill:none;stroke:#000000;stroke-linecap:round;stroke-opacity:0.2;\"/>\r\n    <path clip-path=\"url(#p1412f635a8)\" d=\"M 52.147823 196.939768 \r\nL 54.323892 200.846778 \r\nL 49.892643 200.243427 \r\nL 52.147823 196.939768 \r\nz\r\n\" style=\"fill-opacity:0.2;stroke:#000000;stroke-linecap:round;stroke-opacity:0.2;\"/>\r\n   </g>\r\n   <g id=\"patch_7\">\r\n    <path clip-path=\"url(#p1412f635a8)\" d=\"M 244.442363 83.462517 \r\nQ 289.466844 75.178636 308.966888 34.997059 \r\n\" style=\"fill:none;stroke:#000000;stroke-linecap:round;stroke-opacity:0.2;\"/>\r\n    <path clip-path=\"url(#p1412f635a8)\" d=\"M 305.421174 37.722478 \r\nL 308.966888 34.997059 \r\nL 309.019795 39.468882 \r\nL 305.421174 37.722478 \r\nz\r\n\" style=\"fill-opacity:0.2;stroke:#000000;stroke-linecap:round;stroke-opacity:0.2;\"/>\r\n   </g>\r\n   <g id=\"patch_8\">\r\n    <path clip-path=\"url(#p1412f635a8)\" d=\"M 227.243644 85.457342 \r\nQ 115.488893 96.867179 66.912837 196.915391 \r\n\" style=\"fill:none;stroke:#000000;stroke-linecap:round;stroke-opacity:0.2;\"/>\r\n    <path clip-path=\"url(#p1412f635a8)\" d=\"M 70.459055 194.190627 \r\nL 66.912837 196.915391 \r\nL 66.860756 192.443558 \r\nL 70.459055 194.190627 \r\nz\r\n\" style=\"fill-opacity:0.2;stroke:#000000;stroke-linecap:round;stroke-opacity:0.2;\"/>\r\n   </g>\r\n   <g id=\"patch_9\">\r\n    <path clip-path=\"url(#p1412f635a8)\" d=\"M 304.374829 27.322903 \r\nQ 259.350348 35.606783 239.850304 75.788361 \r\n\" style=\"fill:none;stroke:#000000;stroke-linecap:round;stroke-opacity:0.2;\"/>\r\n    <path clip-path=\"url(#p1412f635a8)\" d=\"M 243.396018 73.062942 \r\nL 239.850304 75.788361 \r\nL 239.797397 71.316538 \r\nL 243.396018 73.062942 \r\nz\r\n\" style=\"fill-opacity:0.2;stroke:#000000;stroke-linecap:round;stroke-opacity:0.2;\"/>\r\n   </g>\r\n   <g id=\"matplotlib.axis_1\">\r\n    <g id=\"xtick_1\"/>\r\n    <g id=\"xtick_2\"/>\r\n    <g id=\"xtick_3\"/>\r\n    <g id=\"xtick_4\"/>\r\n    <g id=\"xtick_5\"/>\r\n    <g id=\"xtick_6\"/>\r\n   </g>\r\n   <g id=\"matplotlib.axis_2\">\r\n    <g id=\"ytick_1\"/>\r\n    <g id=\"ytick_2\"/>\r\n    <g id=\"ytick_3\"/>\r\n    <g id=\"ytick_4\"/>\r\n    <g id=\"ytick_5\"/>\r\n   </g>\r\n   <g id=\"patch_10\">\r\n    <path d=\"M 7.2 224.64 \r\nL 7.2 7.2 \r\n\" style=\"fill:none;stroke:#000000;stroke-linecap:square;stroke-linejoin:miter;stroke-width:0.8;\"/>\r\n   </g>\r\n   <g id=\"patch_11\">\r\n    <path d=\"M 342 224.64 \r\nL 342 7.2 \r\n\" style=\"fill:none;stroke:#000000;stroke-linecap:square;stroke-linejoin:miter;stroke-width:0.8;\"/>\r\n   </g>\r\n   <g id=\"patch_12\">\r\n    <path d=\"M 7.2 224.64 \r\nL 342 224.64 \r\n\" style=\"fill:none;stroke:#000000;stroke-linecap:square;stroke-linejoin:miter;stroke-width:0.8;\"/>\r\n   </g>\r\n   <g id=\"patch_13\">\r\n    <path d=\"M 7.2 7.2 \r\nL 342 7.2 \r\n\" style=\"fill:none;stroke:#000000;stroke-linecap:square;stroke-linejoin:miter;stroke-width:0.8;\"/>\r\n   </g>\r\n   <g id=\"text_1\">\r\n    <g clip-path=\"url(#p1412f635a8)\">\r\n     <!-- 1 -->\r\n     <g style=\"fill:#ff0000;\" transform=\"translate(162.968619 81.423186)scale(0.2 -0.2)\">\r\n      <defs>\r\n       <path d=\"M 12.40625 8.296875 \r\nL 28.515625 8.296875 \r\nL 28.515625 63.921875 \r\nL 10.984375 60.40625 \r\nL 10.984375 69.390625 \r\nL 28.421875 72.90625 \r\nL 38.28125 72.90625 \r\nL 38.28125 8.296875 \r\nL 54.390625 8.296875 \r\nL 54.390625 0 \r\nL 12.40625 0 \r\nz\r\n\" id=\"DejaVuSans-49\"/>\r\n      </defs>\r\n      <use xlink:href=\"#DejaVuSans-49\"/>\r\n     </g>\r\n    </g>\r\n   </g>\r\n   <g id=\"text_2\">\r\n    <g clip-path=\"url(#p1412f635a8)\">\r\n     <!-- 2 -->\r\n     <g style=\"fill:#ff0000;\" transform=\"translate(29.890393 171.324593)scale(0.2 -0.2)\">\r\n      <defs>\r\n       <path d=\"M 19.1875 8.296875 \r\nL 53.609375 8.296875 \r\nL 53.609375 0 \r\nL 7.328125 0 \r\nL 7.328125 8.296875 \r\nQ 12.9375 14.109375 22.625 23.890625 \r\nQ 32.328125 33.6875 34.8125 36.53125 \r\nQ 39.546875 41.84375 41.421875 45.53125 \r\nQ 43.3125 49.21875 43.3125 52.78125 \r\nQ 43.3125 58.59375 39.234375 62.25 \r\nQ 35.15625 65.921875 28.609375 65.921875 \r\nQ 23.96875 65.921875 18.8125 64.3125 \r\nQ 13.671875 62.703125 7.8125 59.421875 \r\nL 7.8125 69.390625 \r\nQ 13.765625 71.78125 18.9375 73 \r\nQ 24.125 74.21875 28.421875 74.21875 \r\nQ 39.75 74.21875 46.484375 68.546875 \r\nQ 53.21875 62.890625 53.21875 53.421875 \r\nQ 53.21875 48.921875 51.53125 44.890625 \r\nQ 49.859375 40.875 45.40625 35.40625 \r\nQ 44.1875 33.984375 37.640625 27.21875 \r\nQ 31.109375 20.453125 19.1875 8.296875 \r\nz\r\n\" id=\"DejaVuSans-50\"/>\r\n      </defs>\r\n      <use xlink:href=\"#DejaVuSans-50\"/>\r\n     </g>\r\n    </g>\r\n   </g>\r\n   <g id=\"text_3\">\r\n    <g clip-path=\"url(#p1412f635a8)\">\r\n     <!-- 3 -->\r\n     <g style=\"fill:#ff0000;\" transform=\"translate(229.507585 90.235409)scale(0.2 -0.2)\">\r\n      <defs>\r\n       <path d=\"M 40.578125 39.3125 \r\nQ 47.65625 37.796875 51.625 33 \r\nQ 55.609375 28.21875 55.609375 21.1875 \r\nQ 55.609375 10.40625 48.1875 4.484375 \r\nQ 40.765625 -1.421875 27.09375 -1.421875 \r\nQ 22.515625 -1.421875 17.65625 -0.515625 \r\nQ 12.796875 0.390625 7.625 2.203125 \r\nL 7.625 11.71875 \r\nQ 11.71875 9.328125 16.59375 8.109375 \r\nQ 21.484375 6.890625 26.8125 6.890625 \r\nQ 36.078125 6.890625 40.9375 10.546875 \r\nQ 45.796875 14.203125 45.796875 21.1875 \r\nQ 45.796875 27.640625 41.28125 31.265625 \r\nQ 36.765625 34.90625 28.71875 34.90625 \r\nL 20.21875 34.90625 \r\nL 20.21875 43.015625 \r\nL 29.109375 43.015625 \r\nQ 36.375 43.015625 40.234375 45.921875 \r\nQ 44.09375 48.828125 44.09375 54.296875 \r\nQ 44.09375 59.90625 40.109375 62.90625 \r\nQ 36.140625 65.921875 28.71875 65.921875 \r\nQ 24.65625 65.921875 20.015625 65.03125 \r\nQ 15.375 64.15625 9.8125 62.3125 \r\nL 9.8125 71.09375 \r\nQ 15.4375 72.65625 20.34375 73.4375 \r\nQ 25.25 74.21875 29.59375 74.21875 \r\nQ 40.828125 74.21875 47.359375 69.109375 \r\nQ 53.90625 64.015625 53.90625 55.328125 \r\nQ 53.90625 49.265625 50.4375 45.09375 \r\nQ 46.96875 40.921875 40.578125 39.3125 \r\nz\r\n\" id=\"DejaVuSans-51\"/>\r\n      </defs>\r\n      <use xlink:href=\"#DejaVuSans-51\"/>\r\n     </g>\r\n    </g>\r\n   </g>\r\n   <g id=\"text_4\">\r\n    <g clip-path=\"url(#p1412f635a8)\">\r\n     <!-- 4 -->\r\n     <g style=\"fill:#ff0000;\" transform=\"translate(306.584607 31.58751)scale(0.2 -0.2)\">\r\n      <defs>\r\n       <path d=\"M 37.796875 64.3125 \r\nL 12.890625 25.390625 \r\nL 37.796875 25.390625 \r\nz\r\nM 35.203125 72.90625 \r\nL 47.609375 72.90625 \r\nL 47.609375 25.390625 \r\nL 58.015625 25.390625 \r\nL 58.015625 17.1875 \r\nL 47.609375 17.1875 \r\nL 47.609375 0 \r\nL 37.796875 0 \r\nL 37.796875 17.1875 \r\nL 4.890625 17.1875 \r\nL 4.890625 26.703125 \r\nz\r\n\" id=\"DejaVuSans-52\"/>\r\n      </defs>\r\n      <use xlink:href=\"#DejaVuSans-52\"/>\r\n     </g>\r\n    </g>\r\n   </g>\r\n   <g id=\"text_5\">\r\n    <g clip-path=\"url(#p1412f635a8)\">\r\n     <!-- 5 -->\r\n     <g style=\"fill:#ff0000;\" transform=\"translate(56.405532 211.28999)scale(0.2 -0.2)\">\r\n      <defs>\r\n       <path d=\"M 10.796875 72.90625 \r\nL 49.515625 72.90625 \r\nL 49.515625 64.59375 \r\nL 19.828125 64.59375 \r\nL 19.828125 46.734375 \r\nQ 21.96875 47.46875 24.109375 47.828125 \r\nQ 26.265625 48.1875 28.421875 48.1875 \r\nQ 40.625 48.1875 47.75 41.5 \r\nQ 54.890625 34.8125 54.890625 23.390625 \r\nQ 54.890625 11.625 47.5625 5.09375 \r\nQ 40.234375 -1.421875 26.90625 -1.421875 \r\nQ 22.3125 -1.421875 17.546875 -0.640625 \r\nQ 12.796875 0.140625 7.71875 1.703125 \r\nL 7.71875 11.625 \r\nQ 12.109375 9.234375 16.796875 8.0625 \r\nQ 21.484375 6.890625 26.703125 6.890625 \r\nQ 35.15625 6.890625 40.078125 11.328125 \r\nQ 45.015625 15.765625 45.015625 23.390625 \r\nQ 45.015625 31 40.078125 35.4375 \r\nQ 35.15625 39.890625 26.703125 39.890625 \r\nQ 22.75 39.890625 18.8125 39.015625 \r\nQ 14.890625 38.140625 10.796875 36.28125 \r\nz\r\n\" id=\"DejaVuSans-53\"/>\r\n      </defs>\r\n      <use xlink:href=\"#DejaVuSans-53\"/>\r\n     </g>\r\n    </g>\r\n   </g>\r\n  </g>\r\n </g>\r\n <defs>\r\n  <clipPath id=\"p1412f635a8\">\r\n   <rect height=\"217.44\" width=\"334.8\" x=\"7.2\" y=\"7.2\"/>\r\n  </clipPath>\r\n </defs>\r\n</svg>\r\n",
      "image/png": "[encoded data removed]"
     },
     "metadata": {}
    }
   ],
   "source": [
    "draw_graph(input_graph)"
   ]
  },
  {
   "cell_type": "code",
   "execution_count": 98,
   "metadata": {},
   "outputs": [
    {
     "output_type": "display_data",
     "data": {
      "text/plain": "<Figure size 432x288 with 1 Axes>",
      "image/svg+xml": "<?xml version=\"1.0\" encoding=\"utf-8\" standalone=\"no\"?>\r\n<!DOCTYPE svg PUBLIC \"-//W3C//DTD SVG 1.1//EN\"\r\n  \"http://www.w3.org/Graphics/SVG/1.1/DTD/svg11.dtd\">\r\n<!-- Created with matplotlib (https://matplotlib.org/) -->\r\n<svg height=\"231.84pt\" version=\"1.1\" viewBox=\"0 0 349.2 231.84\" width=\"349.2pt\" xmlns=\"http://www.w3.org/2000/svg\" xmlns:xlink=\"http://www.w3.org/1999/xlink\">\r\n <metadata>\r\n  <rdf:RDF xmlns:cc=\"http://creativecommons.org/ns#\" xmlns:dc=\"http://purl.org/dc/elements/1.1/\" xmlns:rdf=\"http://www.w3.org/1999/02/22-rdf-syntax-ns#\">\r\n   <cc:Work>\r\n    <dc:type rdf:resource=\"http://purl.org/dc/dcmitype/StillImage\"/>\r\n    <dc:date>2020-12-03T09:11:44.600560</dc:date>\r\n    <dc:format>image/svg+xml</dc:format>\r\n    <dc:creator>\r\n     <cc:Agent>\r\n      <dc:title>Matplotlib v3.3.2, https://matplotlib.org/</dc:title>\r\n     </cc:Agent>\r\n    </dc:creator>\r\n   </cc:Work>\r\n  </rdf:RDF>\r\n </metadata>\r\n <defs>\r\n  <style type=\"text/css\">*{stroke-linecap:butt;stroke-linejoin:round;}</style>\r\n </defs>\r\n <g id=\"figure_1\">\r\n  <g id=\"patch_1\">\r\n   <path d=\"M 0 231.84 \r\nL 349.2 231.84 \r\nL 349.2 0 \r\nL 0 0 \r\nz\r\n\" style=\"fill:none;\"/>\r\n  </g>\r\n  <g id=\"axes_1\">\r\n   <g id=\"patch_2\">\r\n    <path d=\"M 7.2 224.64 \r\nL 342 224.64 \r\nL 342 7.2 \r\nL 7.2 7.2 \r\nz\r\n\" style=\"fill:#ffffff;\"/>\r\n   </g>\r\n   <g id=\"patch_3\">\r\n    <path clip-path=\"url(#pa86d8bd7a9)\" d=\"M 218.442395 202.148028 \r\nQ 240.537111 161.242027 221.05816 120.262384 \r\n\" style=\"fill:none;stroke:#000000;stroke-linecap:round;stroke-opacity:0.2;\"/>\r\n    <path clip-path=\"url(#pa86d8bd7a9)\" d=\"M 220.969044 124.733632 \r\nL 221.05816 120.262384 \r\nL 224.581689 123.016425 \r\nL 220.969044 124.733632 \r\nz\r\n\" style=\"fill-opacity:0.2;stroke:#000000;stroke-linecap:round;stroke-opacity:0.2;\"/>\r\n   </g>\r\n   <g id=\"patch_4\">\r\n    <path clip-path=\"url(#pa86d8bd7a9)\" d=\"M 224.072914 115.916916 \r\nQ 264.255415 137.282651 304.274316 118.07065 \r\n\" style=\"fill:none;stroke:#000000;stroke-linecap:round;stroke-opacity:0.2;\"/>\r\n    <path clip-path=\"url(#pa86d8bd7a9)\" d=\"M 299.802757 117.998794 \r\nL 304.274316 118.07065 \r\nL 301.533896 121.604783 \r\nL 299.802757 117.998794 \r\nz\r\n\" style=\"fill-opacity:0.2;stroke:#000000;stroke-linecap:round;stroke-opacity:0.2;\"/>\r\n   </g>\r\n   <g id=\"patch_5\">\r\n    <path clip-path=\"url(#pa86d8bd7a9)\" d=\"M 209.192471 107.055658 \r\nQ 127.750043 59.37188 44.864684 102.114159 \r\n\" style=\"fill:none;stroke:#000000;stroke-linecap:round;stroke-opacity:0.2;\"/>\r\n    <path clip-path=\"url(#pa86d8bd7a9)\" d=\"M 49.336472 102.058416 \r\nL 44.864684 102.114159 \r\nL 47.503163 98.503282 \r\nL 49.336472 102.058416 \r\nz\r\n\" style=\"fill-opacity:0.2;stroke:#000000;stroke-linecap:round;stroke-opacity:0.2;\"/>\r\n   </g>\r\n   <g id=\"patch_6\">\r\n    <path clip-path=\"url(#pa86d8bd7a9)\" d=\"M 305.45461 109.207579 \r\nQ 265.272109 87.841844 225.253209 107.053845 \r\n\" style=\"fill:none;stroke:#000000;stroke-linecap:round;stroke-opacity:0.2;\"/>\r\n    <path clip-path=\"url(#pa86d8bd7a9)\" d=\"M 229.724768 107.125701 \r\nL 225.253209 107.053845 \r\nL 227.993629 103.519712 \r\nL 229.724768 107.125701 \r\nz\r\n\" style=\"fill-opacity:0.2;stroke:#000000;stroke-linecap:round;stroke-opacity:0.2;\"/>\r\n   </g>\r\n   <g id=\"matplotlib.axis_1\">\r\n    <g id=\"xtick_1\"/>\r\n    <g id=\"xtick_2\"/>\r\n    <g id=\"xtick_3\"/>\r\n    <g id=\"xtick_4\"/>\r\n    <g id=\"xtick_5\"/>\r\n    <g id=\"xtick_6\"/>\r\n    <g id=\"xtick_7\"/>\r\n    <g id=\"xtick_8\"/>\r\n   </g>\r\n   <g id=\"matplotlib.axis_2\">\r\n    <g id=\"ytick_1\"/>\r\n    <g id=\"ytick_2\"/>\r\n    <g id=\"ytick_3\"/>\r\n    <g id=\"ytick_4\"/>\r\n    <g id=\"ytick_5\"/>\r\n    <g id=\"ytick_6\"/>\r\n   </g>\r\n   <g id=\"patch_7\">\r\n    <path d=\"M 7.2 224.64 \r\nL 7.2 7.2 \r\n\" style=\"fill:none;stroke:#000000;stroke-linecap:square;stroke-linejoin:miter;stroke-width:0.8;\"/>\r\n   </g>\r\n   <g id=\"patch_8\">\r\n    <path d=\"M 342 224.64 \r\nL 342 7.2 \r\n\" style=\"fill:none;stroke:#000000;stroke-linecap:square;stroke-linejoin:miter;stroke-width:0.8;\"/>\r\n   </g>\r\n   <g id=\"patch_9\">\r\n    <path d=\"M 7.2 224.64 \r\nL 342 224.64 \r\n\" style=\"fill:none;stroke:#000000;stroke-linecap:square;stroke-linejoin:miter;stroke-width:0.8;\"/>\r\n   </g>\r\n   <g id=\"patch_10\">\r\n    <path d=\"M 7.2 7.2 \r\nL 342 7.2 \r\n\" style=\"fill:none;stroke:#000000;stroke-linecap:square;stroke-linejoin:miter;stroke-width:0.8;\"/>\r\n   </g>\r\n   <g id=\"text_1\">\r\n    <g clip-path=\"url(#pa86d8bd7a9)\">\r\n     <!-- 1 -->\r\n     <g style=\"fill:#ff0000;\" transform=\"translate(208.964631 214.027717)scale(0.16 -0.16)\">\r\n      <defs>\r\n       <path d=\"M 12.40625 8.296875 \r\nL 28.515625 8.296875 \r\nL 28.515625 63.921875 \r\nL 10.984375 60.40625 \r\nL 10.984375 69.390625 \r\nL 28.421875 72.90625 \r\nL 38.28125 72.90625 \r\nL 38.28125 8.296875 \r\nL 54.390625 8.296875 \r\nL 54.390625 0 \r\nL 12.40625 0 \r\nz\r\n\" id=\"DejaVuSans-49\"/>\r\n      </defs>\r\n      <use xlink:href=\"#DejaVuSans-49\"/>\r\n     </g>\r\n    </g>\r\n   </g>\r\n   <g id=\"text_2\">\r\n    <g clip-path=\"url(#pa86d8bd7a9)\">\r\n     <!-- 3 -->\r\n     <g style=\"fill:#ff0000;\" transform=\"translate(211.490417 115.986507)scale(0.16 -0.16)\">\r\n      <defs>\r\n       <path d=\"M 40.578125 39.3125 \r\nQ 47.65625 37.796875 51.625 33 \r\nQ 55.609375 28.21875 55.609375 21.1875 \r\nQ 55.609375 10.40625 48.1875 4.484375 \r\nQ 40.765625 -1.421875 27.09375 -1.421875 \r\nQ 22.515625 -1.421875 17.65625 -0.515625 \r\nQ 12.796875 0.390625 7.625 2.203125 \r\nL 7.625 11.71875 \r\nQ 11.71875 9.328125 16.59375 8.109375 \r\nQ 21.484375 6.890625 26.8125 6.890625 \r\nQ 36.078125 6.890625 40.9375 10.546875 \r\nQ 45.796875 14.203125 45.796875 21.1875 \r\nQ 45.796875 27.640625 41.28125 31.265625 \r\nQ 36.765625 34.90625 28.71875 34.90625 \r\nL 20.21875 34.90625 \r\nL 20.21875 43.015625 \r\nL 29.109375 43.015625 \r\nQ 36.375 43.015625 40.234375 45.921875 \r\nQ 44.09375 48.828125 44.09375 54.296875 \r\nQ 44.09375 59.90625 40.109375 62.90625 \r\nQ 36.140625 65.921875 28.71875 65.921875 \r\nQ 24.65625 65.921875 20.015625 65.03125 \r\nQ 15.375 64.15625 9.8125 62.3125 \r\nL 9.8125 71.09375 \r\nQ 15.4375 72.65625 20.34375 73.4375 \r\nQ 25.25 74.21875 29.59375 74.21875 \r\nQ 40.828125 74.21875 47.359375 69.109375 \r\nQ 53.90625 64.015625 53.90625 55.328125 \r\nQ 53.90625 49.265625 50.4375 45.09375 \r\nQ 46.96875 40.921875 40.578125 39.3125 \r\nz\r\n\" id=\"DejaVuSans-51\"/>\r\n      </defs>\r\n      <use xlink:href=\"#DejaVuSans-51\"/>\r\n     </g>\r\n    </g>\r\n   </g>\r\n   <g id=\"text_3\">\r\n    <g clip-path=\"url(#pa86d8bd7a9)\">\r\n     <!-- 4 -->\r\n     <g style=\"fill:#ff0000;\" transform=\"translate(307.857107 117.967988)scale(0.16 -0.16)\">\r\n      <defs>\r\n       <path d=\"M 37.796875 64.3125 \r\nL 12.890625 25.390625 \r\nL 37.796875 25.390625 \r\nz\r\nM 35.203125 72.90625 \r\nL 47.609375 72.90625 \r\nL 47.609375 25.390625 \r\nL 58.015625 25.390625 \r\nL 58.015625 17.1875 \r\nL 47.609375 17.1875 \r\nL 47.609375 0 \r\nL 37.796875 0 \r\nL 37.796875 17.1875 \r\nL 4.890625 17.1875 \r\nL 4.890625 26.703125 \r\nz\r\n\" id=\"DejaVuSans-52\"/>\r\n      </defs>\r\n      <use xlink:href=\"#DejaVuSans-52\"/>\r\n     </g>\r\n    </g>\r\n   </g>\r\n   <g id=\"text_4\">\r\n    <g clip-path=\"url(#pa86d8bd7a9)\">\r\n     <!-- 5 -->\r\n     <g style=\"fill:#ff0000;\" transform=\"translate(31.162893 111.154779)scale(0.16 -0.16)\">\r\n      <defs>\r\n       <path d=\"M 10.796875 72.90625 \r\nL 49.515625 72.90625 \r\nL 49.515625 64.59375 \r\nL 19.828125 64.59375 \r\nL 19.828125 46.734375 \r\nQ 21.96875 47.46875 24.109375 47.828125 \r\nQ 26.265625 48.1875 28.421875 48.1875 \r\nQ 40.625 48.1875 47.75 41.5 \r\nQ 54.890625 34.8125 54.890625 23.390625 \r\nQ 54.890625 11.625 47.5625 5.09375 \r\nQ 40.234375 -1.421875 26.90625 -1.421875 \r\nQ 22.3125 -1.421875 17.546875 -0.640625 \r\nQ 12.796875 0.140625 7.71875 1.703125 \r\nL 7.71875 11.625 \r\nQ 12.109375 9.234375 16.796875 8.0625 \r\nQ 21.484375 6.890625 26.703125 6.890625 \r\nQ 35.15625 6.890625 40.078125 11.328125 \r\nQ 45.015625 15.765625 45.015625 23.390625 \r\nQ 45.015625 31 40.078125 35.4375 \r\nQ 35.15625 39.890625 26.703125 39.890625 \r\nQ 22.75 39.890625 18.8125 39.015625 \r\nQ 14.890625 38.140625 10.796875 36.28125 \r\nz\r\n\" id=\"DejaVuSans-53\"/>\r\n      </defs>\r\n      <use xlink:href=\"#DejaVuSans-53\"/>\r\n     </g>\r\n    </g>\r\n   </g>\r\n  </g>\r\n </g>\r\n <defs>\r\n  <clipPath id=\"pa86d8bd7a9\">\r\n   <rect height=\"217.44\" width=\"334.8\" x=\"7.2\" y=\"7.2\"/>\r\n  </clipPath>\r\n </defs>\r\n</svg>\r\n",
      "image/png": "[encoded data removed]"
     },
     "metadata": {}
    }
   ],
   "source": [
    "draw_way(input_graph,'13435')"
   ]
  },
  {
   "cell_type": "code",
   "execution_count": 59,
   "metadata": {},
   "outputs": [
    {
     "output_type": "execute_result",
     "data": {
      "text/plain": [
       "['1', '2', '3', '4', '5']"
      ]
     },
     "metadata": {},
     "execution_count": 59
    }
   ],
   "source": [
    "input_graph.getVertices()"
   ]
  },
  {
   "cell_type": "code",
   "execution_count": null,
   "metadata": {},
   "outputs": [],
   "source": []
  }
 ]
}