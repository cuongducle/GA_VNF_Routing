{
 "metadata": {
  "language_info": {
   "codemirror_mode": {
    "name": "ipython",
    "version": 3
   },
   "file_extension": ".py",
   "mimetype": "text/x-python",
   "name": "python",
   "nbconvert_exporter": "python",
   "pygments_lexer": "ipython3",
   "version": "3.6.9-final"
  },
  "orig_nbformat": 2,
  "kernelspec": {
   "name": "python36964bitbertcondafe76e7349f53486ca9029903b6e40edd",
   "display_name": "Python 3.6.9 64-bit ('bert': conda)"
  }
 },
 "nbformat": 4,
 "nbformat_minor": 2,
 "cells": [
  {
   "cell_type": "code",
   "execution_count": 35,
   "metadata": {},
   "outputs": [],
   "source": [
    "from Graph_directed import Graph\n",
    "from GeneticAlgorithmTSP import GeneticAlgorithmTSP\n",
    "import heapq\n",
    "import numpy as np"
   ]
  },
  {
   "cell_type": "code",
   "execution_count": 36,
   "metadata": {},
   "outputs": [],
   "source": [
    "def dijsktra(graph, initial):\n",
    "  visited = {initial: 0}\n",
    "  path = {}\n",
    "  nodes = set(graph.getVertices())\n",
    "  while nodes: \n",
    "    min_node = None\n",
    "    for node in nodes:\n",
    "      if node in visited:\n",
    "        if min_node is None:\n",
    "          min_node = node\n",
    "        elif visited[node] < visited[min_node]:\n",
    "          min_node = node\n",
    "    if min_node is None:\n",
    "      break\n",
    "    nodes.remove(min_node)\n",
    "    current_weight = visited[min_node]\n",
    "    for edge in graph.getAdjacent(min_node):\n",
    "      weight = current_weight + graph.getDistance(min_node, edge)\n",
    "      if edge not in visited or weight < visited[edge]:\n",
    "        visited[edge] = weight\n",
    "        path[edge] = min_node\n",
    "  return visited, path"
   ]
  },
  {
   "cell_type": "code",
   "execution_count": 49,
   "metadata": {},
   "outputs": [],
   "source": [
    "def int_data(data):\n",
    "    out = []\n",
    "    for item in data:\n",
    "        out.append(int(item))\n",
    "    return out"
   ]
  },
  {
   "cell_type": "code",
   "execution_count": 42,
   "metadata": {},
   "outputs": [],
   "source": [
    "input_graph = Graph()\n",
    "sfc = []\n",
    "with open(\"input.txt\",\"r\") as f:\n",
    "    n,m = int_data(f.readline().split())\n",
    "    for _ in range(m):\n",
    "        a,b,c = f.readline().split()\n",
    "        input_graph.setAdjacent(str(a), str(b), int(c))\n",
    "    start,finish = f.readline().split()\n",
    "    num_sfc = int(f.readline())\n",
    "    sfc.append(start)\n",
    "    for _ in range(num_sfc):\n",
    "        sfc.append(f.readline().split())\n",
    "    sfc.append(finish)\n",
    "input_graph.setStartEnd(start,finish)"
   ]
  },
  {
   "source": [
    "Make SFC Graph"
   ],
   "cell_type": "markdown",
   "metadata": {}
  },
  {
   "cell_type": "code",
   "execution_count": 43,
   "metadata": {},
   "outputs": [],
   "source": [
    "sfc_item = []\n",
    "for sfc_part in sfc:\n",
    "    for item in sfc_part:\n",
    "        sfc_item.append(item)\n",
    "sfc_item = set(sfc_item)"
   ]
  },
  {
   "cell_type": "code",
   "execution_count": 44,
   "metadata": {},
   "outputs": [],
   "source": [
    "dijsktra_dic = {}\n",
    "for item in sfc_item:\n",
    "    dijsktra_dic[item] = dijsktra(graph,item)[0]"
   ]
  },
  {
   "cell_type": "code",
   "execution_count": 45,
   "metadata": {},
   "outputs": [
    {
     "output_type": "execute_result",
     "data": {
      "text/plain": [
       "['1', ['2', '4'], ['2', '3'], '5']"
      ]
     },
     "metadata": {},
     "execution_count": 45
    }
   ],
   "source": [
    "sfc"
   ]
  },
  {
   "cell_type": "code",
   "execution_count": 47,
   "metadata": {},
   "outputs": [],
   "source": [
    "sfc_graph = Graph({})\n",
    "for i in range(len(sfc)-1):\n",
    "    for vertex in sfc[i]:\n",
    "        for adj in sfc[i+1]:  \n",
    "            try:\n",
    "                sfc_graph.setAdjacent(vertex, adj, dijsktra_dic[vertex][adj])\n",
    "                #print(vertex,' ', adj)\n",
    "            except:\n",
    "                import sys\n",
    "                sfc_graph.setAdjacent(vertex, adj, sys.maxsize)\n",
    "                #print(vertex,' ', adj)"
   ]
  },
  {
   "cell_type": "code",
   "execution_count": 48,
   "metadata": {},
   "outputs": [
    {
     "output_type": "execute_result",
     "data": {
      "text/plain": [
       "{'2': 3, '4': 4}"
      ]
     },
     "metadata": {},
     "execution_count": 48
    }
   ],
   "source": [
    "sfc_graph.setStartEnd('1','5')"
   ]
  },
  {
   "cell_type": "code",
   "execution_count": 62,
   "metadata": {},
   "outputs": [],
   "source": [
    "list_node = sfc_graph.getVertices()\n",
    "list_node.remove(start)\n",
    "list_node.remove(finish)"
   ]
  },
  {
   "cell_type": "code",
   "execution_count": 64,
   "metadata": {},
   "outputs": [],
   "source": [
    "sfc_graph.keys = list_node"
   ]
  },
  {
   "cell_type": "code",
   "execution_count": 58,
   "metadata": {},
   "outputs": [],
   "source": [
    "list_node.remove('5')"
   ]
  },
  {
   "cell_type": "code",
   "execution_count": null,
   "metadata": {},
   "outputs": [],
   "source": []
  }
 ]
}