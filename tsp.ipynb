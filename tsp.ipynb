{
 "metadata": {
  "language_info": {
   "codemirror_mode": {
    "name": "ipython",
    "version": 3
   },
   "file_extension": ".py",
   "mimetype": "text/x-python",
   "name": "python",
   "nbconvert_exporter": "python",
   "pygments_lexer": "ipython3",
   "version": "3.6.9-final"
  },
  "orig_nbformat": 2,
  "kernelspec": {
   "name": "python36964bitbertcondafe76e7349f53486ca9029903b6e40edd",
   "display_name": "Python 3.6.9 64-bit ('bert': conda)"
  }
 },
 "nbformat": 4,
 "nbformat_minor": 2,
 "cells": [
  {
   "cell_type": "code",
   "execution_count": 2,
   "metadata": {},
   "outputs": [],
   "source": [
    "from Graph_directed import Graph\n",
    "from GeneticAlgorithmTSP import GeneticAlgorithmTSP\n",
    "import heapq\n",
    "import numpy as np\n",
    "import random\n",
    "import networkx as nx\n",
    "import matplotlib.pyplot as plt\n",
    "import random"
   ]
  },
  {
   "cell_type": "code",
   "execution_count": 3,
   "metadata": {},
   "outputs": [
    {
     "output_type": "execute_result",
     "data": {
      "text/plain": [
       "2"
      ]
     },
     "metadata": {},
     "execution_count": 3
    }
   ],
   "source": [
    "random.randint(1,5)"
   ]
  },
  {
   "cell_type": "code",
   "execution_count": 4,
   "metadata": {},
   "outputs": [],
   "source": [
    "def generate_data(n,m,l,max_weight = 10, max_len_sfc = 4):\n",
    "    input_graph = Graph({})\n",
    "    sfc = []\n",
    "    if (m > n*(n-1)):\n",
    "        print('Too many vertex')\n",
    "        return\n",
    "    c = 1\n",
    "    list_vertex = []\n",
    "    while c < m:\n",
    "        a = random.randint(1,n)\n",
    "        b = random.randint(1,n)\n",
    "        if (a != b) and ((a,b) not in list_vertex):\n",
    "            list_vertex.append((a,b))\n",
    "            input_graph.setAdjacent(str(a), str(b), random.randint(1,max_weight))\n",
    "            c = c + 1\n",
    "    start,end = random.sample(range(1,n), 2)\n",
    "    input_graph.setStartEnd(start,finish)\n",
    "    sfc.append(start)\n",
    "    for i in range(l):\n",
    "        sfc.append(random.sample(range(1,n), random.randint(1,max_len_sfc) ))\n",
    "    sfc.append(end)\n",
    "    \n",
    "\n",
    "    "
   ]
  },
  {
   "cell_type": "code",
   "execution_count": 11,
   "metadata": {},
   "outputs": [],
   "source": [
    "def abc(a,b,c=10):\n",
    "    print(a , ' ', b , ' ',c)"
   ]
  },
  {
   "cell_type": "code",
   "execution_count": 18,
   "metadata": {},
   "outputs": [],
   "source": [
    "input_graph = Graph({})\n",
    "sfc = []\n",
    "with open(\"input.txt\",\"r\") as f:\n",
    "    n,m = int_data(f.readline().split())\n",
    "    for _ in range(m):\n",
    "        a,b,c = f.readline().split()\n",
    "        input_graph.setAdjacent(str(a), str(b), int(c))\n",
    "    start,finish = f.readline().split()\n",
    "    num_sfc = int(f.readline())\n",
    "    sfc.append(start)\n",
    "    for _ in range(num_sfc):\n",
    "        sfc.append(f.readline().split())\n",
    "    sfc.append(finish)\n",
    "input_graph.setStartEnd(start,finish)"
   ]
  },
  {
   "cell_type": "code",
   "execution_count": 9,
   "metadata": {},
   "outputs": [],
   "source": [
    "def dijsktra(graph, initial):\n",
    "  visited = {initial: 0}\n",
    "  path = {}\n",
    "  nodes = set(graph.getVertices())\n",
    "  while nodes: \n",
    "    min_node = None\n",
    "    for node in nodes:\n",
    "      if node in visited:\n",
    "        if min_node is None:\n",
    "          min_node = node\n",
    "        elif visited[node] < visited[min_node]:\n",
    "          min_node = node\n",
    "    if min_node is None:\n",
    "      break\n",
    "    nodes.remove(min_node)\n",
    "    current_weight = visited[min_node]\n",
    "    for edge in graph.getAdjacent(min_node):\n",
    "      weight = current_weight + graph.getDistance(min_node, edge)\n",
    "      if edge not in visited or weight < visited[edge]:\n",
    "        visited[edge] = weight\n",
    "        path[edge] = min_node\n",
    "  return visited, path"
   ]
  },
  {
   "cell_type": "code",
   "execution_count": 28,
   "metadata": {},
   "outputs": [
    {
     "output_type": "stream",
     "name": "stdout",
     "text": [
      "['a', 'b', 'c', ' ', 'c', 'b', 'd']\n"
     ]
    }
   ],
   "source": [
    "a = 'abc cbd'\n",
    "print(list(a))"
   ]
  },
  {
   "cell_type": "code",
   "execution_count": 17,
   "metadata": {},
   "outputs": [],
   "source": [
    "def int_data(data):\n",
    "    out = []\n",
    "    for item in data:\n",
    "        out.append(int(item))\n",
    "    return out"
   ]
  },
  {
   "source": [
    "Make SFC Graph"
   ],
   "cell_type": "markdown",
   "metadata": {}
  },
  {
   "cell_type": "code",
   "execution_count": 12,
   "metadata": {},
   "outputs": [],
   "source": [
    "sfc_item = []\n",
    "for sfc_part in sfc:\n",
    "    for item in sfc_part:\n",
    "        sfc_item.append(item)\n",
    "sfc_item = set(sfc_item)"
   ]
  },
  {
   "cell_type": "code",
   "execution_count": 13,
   "metadata": {},
   "outputs": [],
   "source": [
    "dijsktra_dic = {}\n",
    "dijsktra_path = {}\n",
    "for item in sfc_item:\n",
    "    dijsktra_dic[item] = dijsktra(input_graph,item)[0]\n",
    "    dijsktra_path[item] = dijsktra(input_graph,item)[1]"
   ]
  },
  {
   "cell_type": "code",
   "execution_count": 14,
   "metadata": {},
   "outputs": [
    {
     "output_type": "execute_result",
     "data": {
      "text/plain": [
       "({'1': 0, '2': 3, '3': 1, '4': 4, '5': 2},\n",
       " {'2': '1', '3': '1', '4': '3', '5': '3'})"
      ]
     },
     "metadata": {},
     "execution_count": 14
    }
   ],
   "source": [
    "dijsktra(input_graph,'1')"
   ]
  },
  {
   "cell_type": "code",
   "execution_count": 15,
   "metadata": {},
   "outputs": [],
   "source": [
    "def full_path(path):\n",
    "    fullpath = ''\n",
    "    for i in range(len(path)-1):\n",
    "        tmp = dijsktra_path[path[i]][path[i+1]]\n",
    "        if tmp != path[i]:\n",
    "            fullpath = fullpath + path[i] + tmp\n",
    "        else:\n",
    "            fullpath = fullpath + path[i]\n",
    "    return fullpath + path[-1]"
   ]
  },
  {
   "cell_type": "code",
   "execution_count": 26,
   "metadata": {},
   "outputs": [
    {
     "output_type": "stream",
     "name": "stdout",
     "text": [
      "(1, 2, 3)\t(1, 3, 1)\t(1, 4, 5)\t(2, 5, 5)\t(3, 4, 3)\t(3, 5, 1)\t(4, 3, 1)\t\n"
     ]
    }
   ],
   "source": [
    "print(input_graph)"
   ]
  },
  {
   "cell_type": "code",
   "execution_count": 32,
   "metadata": {},
   "outputs": [
    {
     "output_type": "execute_result",
     "data": {
      "text/plain": [
       "1"
      ]
     },
     "metadata": {},
     "execution_count": 32
    }
   ],
   "source": [
    "input_graph.getDistance('1','3')"
   ]
  },
  {
   "cell_type": "code",
   "execution_count": 21,
   "metadata": {},
   "outputs": [],
   "source": [
    "sfc_graph = Graph({})\n",
    "for i in range(len(sfc)-1):\n",
    "    for vertex in sfc[i]:\n",
    "        for adj in sfc[i+1]:  \n",
    "            try:\n",
    "                sfc_graph.setAdjacent(vertex, adj, dijsktra_dic[vertex][adj])\n",
    "                #print(vertex,' ', adj)\n",
    "            except:\n",
    "                import sys\n",
    "                sfc_graph.setAdjacent(vertex, adj, sys.maxsize)\n",
    "                #print(vertex,' ', adj)"
   ]
  },
  {
   "cell_type": "code",
   "execution_count": 39,
   "metadata": {},
   "outputs": [
    {
     "output_type": "execute_result",
     "data": {
      "text/plain": [
       "<Graph_directed.Graph at 0x7fdc909c5d68>"
      ]
     },
     "metadata": {},
     "execution_count": 39
    }
   ],
   "source": [
    "graph = Graph({})\n",
    "graph.setAdjacent('a', 'b', 4)\n",
    "graph.setAdjacent('a', 'c', 4)\n",
    "graph.setAdjacent('a', 'd', 7)\n",
    "graph.setAdjacent('a', 'e', 3)\n",
    "graph.setAdjacent('b', 'c', 2)\n",
    "graph.setAdjacent('b', 'd', 3)\n",
    "graph.setAdjacent('b', 'e', 5)\n",
    "graph.setAdjacent('c', 'd', 2)\n",
    "graph.setAdjacent('c', 'e', 3)\n",
    "graph.setAdjacent('d', 'e', 6)"
   ]
  },
  {
   "cell_type": "code",
   "execution_count": 42,
   "metadata": {},
   "outputs": [
    {
     "output_type": "execute_result",
     "data": {
      "text/plain": [
       "({'b': 0, 'c': 2, 'd': 3, 'e': 5}, {'c': 'b', 'd': 'b', 'e': 'b'})"
      ]
     },
     "metadata": {},
     "execution_count": 42
    }
   ],
   "source": [
    "dijsktra(graph,'b')"
   ]
  },
  {
   "cell_type": "code",
   "execution_count": 15,
   "metadata": {},
   "outputs": [],
   "source": [
    "def draw_way(graph,path):\n",
    "    G = nx.DiGraph(directed=True)\n",
    "    for i in range(len(path)-1):\n",
    "        start = path[i]\n",
    "        target = path[i+1]\n",
    "        G.add_edge(start, target, weight=graph.getDistance(start,target))\n",
    "\n",
    "    # Need to create a layout when doing\n",
    "    options = {\n",
    "        'node_color': 'red',\n",
    "        'node_size': 500,\n",
    "        'width': 3,\n",
    "        'arrowstyle': '-|>',\n",
    "        'arrowsize': 12,\n",
    "    }\n",
    "\n",
    "    pos = nx.spring_layout(G)\n",
    "    nx.draw_networkx(G, arrows=True, **options)\n",
    "    plt.show()"
   ]
  },
  {
   "cell_type": "code",
   "execution_count": 26,
   "metadata": {},
   "outputs": [
    {
     "output_type": "display_data",
     "data": {
      "text/plain": "<Figure size 432x288 with 1 Axes>",
      "image/svg+xml": "<?xml version=\"1.0\" encoding=\"utf-8\" standalone=\"no\"?>\n<!DOCTYPE svg PUBLIC \"-//W3C//DTD SVG 1.1//EN\"\n  \"http://www.w3.org/Graphics/SVG/1.1/DTD/svg11.dtd\">\n<!-- Created with matplotlib (https://matplotlib.org/) -->\n<svg height=\"231.84pt\" version=\"1.1\" viewBox=\"0 0 349.2 231.84\" width=\"349.2pt\" xmlns=\"http://www.w3.org/2000/svg\" xmlns:xlink=\"http://www.w3.org/1999/xlink\">\n <defs>\n  <style type=\"text/css\">\n*{stroke-linecap:butt;stroke-linejoin:round;}\n  </style>\n </defs>\n <g id=\"figure_1\">\n  <g id=\"patch_1\">\n   <path d=\"M 0 231.84 \nL 349.2 231.84 \nL 349.2 0 \nL 0 0 \nz\n\" style=\"fill:none;\"/>\n  </g>\n  <g id=\"axes_1\">\n   <g id=\"patch_2\">\n    <path d=\"M 7.2 224.64 \nL 342 224.64 \nL 342 7.2 \nL 7.2 7.2 \nz\n\" style=\"fill:#ffffff;\"/>\n   </g>\n   <g id=\"patch_3\">\n    <path clip-path=\"url(#pbef7b83baf)\" d=\"M 167.080632 171.54578 \nQ 106.671419 141.441615 49.264199 112.833457 \n\" style=\"fill:none;stroke:#000000;stroke-linecap:round;stroke-width:3;\"/>\n    <path clip-path=\"url(#pbef7b83baf)\" d=\"M 52.489848 117.122418 \nL 49.264199 112.833457 \nL 54.630757 112.826314 \nL 52.489848 117.122418 \nz\n\" style=\"stroke:#000000;stroke-linecap:round;stroke-width:3;\"/>\n   </g>\n   <g id=\"patch_4\">\n    <path clip-path=\"url(#pbef7b83baf)\" d=\"M 186.899998 171.167241 \nQ 197.115724 165.577894 204.388977 161.598469 \n\" style=\"fill:none;stroke:#000000;stroke-linecap:round;stroke-width:3;\"/>\n    <path clip-path=\"url(#pbef7b83baf)\" d=\"M 199.026085 161.796936 \nL 204.388977 161.598469 \nL 201.330015 166.007863 \nL 199.026085 161.796936 \nz\n\" style=\"stroke:#000000;stroke-linecap:round;stroke-width:3;\"/>\n   </g>\n   <g id=\"patch_5\">\n    <path clip-path=\"url(#pbef7b83baf)\" d=\"M 188.023765 178.887039 \nQ 245.020421 191.153038 298.738048 202.713371 \n\" style=\"fill:none;stroke:#000000;stroke-linecap:round;stroke-width:3;\"/>\n    <path clip-path=\"url(#pbef7b83baf)\" d=\"M 294.550415 199.357222 \nL 298.738048 202.713371 \nL 293.540549 204.049787 \nL 294.550415 199.357222 \nz\n\" style=\"stroke:#000000;stroke-linecap:round;stroke-width:3;\"/>\n   </g>\n   <g id=\"patch_6\">\n    <path clip-path=\"url(#pbef7b83baf)\" d=\"M 39.605161 95.68471 \nQ 48.869582 66.21138 57.128218 39.9378 \n\" style=\"fill:none;stroke:#000000;stroke-linecap:round;stroke-width:3;\"/>\n    <path clip-path=\"url(#pbef7b83baf)\" d=\"M 53.399302 43.797228 \nL 57.128218 39.9378 \nL 57.97841 45.23659 \nL 53.399302 43.797228 \nz\n\" style=\"stroke:#000000;stroke-linecap:round;stroke-width:3;\"/>\n   </g>\n   <g id=\"patch_7\">\n    <path clip-path=\"url(#pbef7b83baf)\" d=\"M 227.001341 159.887421 \nQ 265.041942 180.196136 300.123701 198.925215 \n\" style=\"fill:none;stroke:#000000;stroke-linecap:round;stroke-width:3;\"/>\n    <path clip-path=\"url(#pbef7b83baf)\" d=\"M 297.019645 194.547448 \nL 300.123701 198.925215 \nL 294.759054 198.7818 \nL 297.019645 194.547448 \nz\n\" style=\"stroke:#000000;stroke-linecap:round;stroke-width:3;\"/>\n   </g>\n   <g id=\"patch_8\">\n    <path clip-path=\"url(#pbef7b83baf)\" d=\"M 208.520214 147.503826 \nQ 139.314918 90.34674 72.695736 35.325543 \n\" style=\"fill:none;stroke:#000000;stroke-linecap:round;stroke-width:3;\"/>\n    <path clip-path=\"url(#pbef7b83baf)\" d=\"M 74.868364 40.232648 \nL 72.695736 35.325543 \nL 77.924997 36.531704 \nL 74.868364 40.232648 \nz\n\" style=\"stroke:#000000;stroke-linecap:round;stroke-width:3;\"/>\n   </g>\n   <g id=\"patch_9\">\n    <path clip-path=\"url(#pbef7b83baf)\" d=\"M 303.085054 200.506191 \nQ 265.044452 180.197476 229.962694 161.468397 \n\" style=\"fill:none;stroke:#000000;stroke-linecap:round;stroke-width:3;\"/>\n    <path clip-path=\"url(#pbef7b83baf)\" d=\"M 233.06675 165.846163 \nL 229.962694 161.468397 \nL 235.32734 161.611812 \nL 233.06675 165.846163 \nz\n\" style=\"stroke:#000000;stroke-linecap:round;stroke-width:3;\"/>\n   </g>\n   <g id=\"matplotlib.axis_1\">\n    <g id=\"xtick_1\"/>\n    <g id=\"xtick_2\"/>\n    <g id=\"xtick_3\"/>\n    <g id=\"xtick_4\"/>\n    <g id=\"xtick_5\"/>\n    <g id=\"xtick_6\"/>\n    <g id=\"xtick_7\"/>\n   </g>\n   <g id=\"matplotlib.axis_2\">\n    <g id=\"ytick_1\"/>\n    <g id=\"ytick_2\"/>\n    <g id=\"ytick_3\"/>\n    <g id=\"ytick_4\"/>\n    <g id=\"ytick_5\"/>\n    <g id=\"ytick_6\"/>\n    <g id=\"ytick_7\"/>\n    <g id=\"ytick_8\"/>\n   </g>\n   <g id=\"PathCollection_1\">\n    <defs>\n     <path d=\"M 0 11.18034 \nC 2.965061 11.18034 5.80908 10.002309 7.905694 7.905694 \nC 10.002309 5.80908 11.18034 2.965061 11.18034 0 \nC 11.18034 -2.965061 10.002309 -5.80908 7.905694 -7.905694 \nC 5.80908 -10.002309 2.965061 -11.18034 0 -11.18034 \nC -2.965061 -11.18034 -5.80908 -10.002309 -7.905694 -7.905694 \nC -10.002309 -5.80908 -11.18034 -2.965061 -11.18034 0 \nC -11.18034 2.965061 -10.002309 5.80908 -7.905694 7.905694 \nC -5.80908 10.002309 -2.965061 11.18034 0 11.18034 \nz\n\" id=\"m8e3276ba2a\" style=\"stroke:#ff0000;\"/>\n    </defs>\n    <g clip-path=\"url(#pbef7b83baf)\">\n     <use style=\"fill:#ff0000;stroke:#ff0000;\" x=\"177.090744\" xlink:href=\"#m8e3276ba2a\" y=\"176.534192\"/>\n     <use style=\"fill:#ff0000;stroke:#ff0000;\" x=\"36.252893\" xlink:href=\"#m8e3276ba2a\" y=\"106.349438\"/>\n     <use style=\"fill:#ff0000;stroke:#ff0000;\" x=\"217.139287\" xlink:href=\"#m8e3276ba2a\" y=\"154.622372\"/>\n     <use style=\"fill:#ff0000;stroke:#ff0000;\" x=\"312.947107\" xlink:href=\"#m8e3276ba2a\" y=\"205.77124\"/>\n     <use style=\"fill:#ff0000;stroke:#ff0000;\" x=\"61.487706\" xlink:href=\"#m8e3276ba2a\" y=\"26.06876\"/>\n    </g>\n   </g>\n   <g id=\"patch_10\">\n    <path d=\"M 7.2 224.64 \nL 7.2 7.2 \n\" style=\"fill:none;stroke:#000000;stroke-linecap:square;stroke-linejoin:miter;stroke-width:0.8;\"/>\n   </g>\n   <g id=\"patch_11\">\n    <path d=\"M 342 224.64 \nL 342 7.2 \n\" style=\"fill:none;stroke:#000000;stroke-linecap:square;stroke-linejoin:miter;stroke-width:0.8;\"/>\n   </g>\n   <g id=\"patch_12\">\n    <path d=\"M 7.2 224.64 \nL 342 224.64 \n\" style=\"fill:none;stroke:#000000;stroke-linecap:square;stroke-linejoin:miter;stroke-width:0.8;\"/>\n   </g>\n   <g id=\"patch_13\">\n    <path d=\"M 7.2 7.2 \nL 342 7.2 \n\" style=\"fill:none;stroke:#000000;stroke-linecap:square;stroke-linejoin:miter;stroke-width:0.8;\"/>\n   </g>\n   <g id=\"text_1\">\n    <g clip-path=\"url(#pbef7b83baf)\">\n     <!-- 1 -->\n     <defs>\n      <path d=\"M 12.40625 8.296875 \nL 28.515625 8.296875 \nL 28.515625 63.921875 \nL 10.984375 60.40625 \nL 10.984375 69.390625 \nL 28.421875 72.90625 \nL 38.28125 72.90625 \nL 38.28125 8.296875 \nL 54.390625 8.296875 \nL 54.390625 0 \nL 12.40625 0 \nz\n\" id=\"DejaVuSans-49\"/>\n     </defs>\n     <g transform=\"translate(173.273244 179.845442)scale(0.12 -0.12)\">\n      <use xlink:href=\"#DejaVuSans-49\"/>\n     </g>\n    </g>\n   </g>\n   <g id=\"text_2\">\n    <g clip-path=\"url(#pbef7b83baf)\">\n     <!-- 2 -->\n     <defs>\n      <path d=\"M 19.1875 8.296875 \nL 53.609375 8.296875 \nL 53.609375 0 \nL 7.328125 0 \nL 7.328125 8.296875 \nQ 12.9375 14.109375 22.625 23.890625 \nQ 32.328125 33.6875 34.8125 36.53125 \nQ 39.546875 41.84375 41.421875 45.53125 \nQ 43.3125 49.21875 43.3125 52.78125 \nQ 43.3125 58.59375 39.234375 62.25 \nQ 35.15625 65.921875 28.609375 65.921875 \nQ 23.96875 65.921875 18.8125 64.3125 \nQ 13.671875 62.703125 7.8125 59.421875 \nL 7.8125 69.390625 \nQ 13.765625 71.78125 18.9375 73 \nQ 24.125 74.21875 28.421875 74.21875 \nQ 39.75 74.21875 46.484375 68.546875 \nQ 53.21875 62.890625 53.21875 53.421875 \nQ 53.21875 48.921875 51.53125 44.890625 \nQ 49.859375 40.875 45.40625 35.40625 \nQ 44.1875 33.984375 37.640625 27.21875 \nQ 31.109375 20.453125 19.1875 8.296875 \nz\n\" id=\"DejaVuSans-50\"/>\n     </defs>\n     <g transform=\"translate(32.435393 109.660688)scale(0.12 -0.12)\">\n      <use xlink:href=\"#DejaVuSans-50\"/>\n     </g>\n    </g>\n   </g>\n   <g id=\"text_3\">\n    <g clip-path=\"url(#pbef7b83baf)\">\n     <!-- 3 -->\n     <defs>\n      <path d=\"M 40.578125 39.3125 \nQ 47.65625 37.796875 51.625 33 \nQ 55.609375 28.21875 55.609375 21.1875 \nQ 55.609375 10.40625 48.1875 4.484375 \nQ 40.765625 -1.421875 27.09375 -1.421875 \nQ 22.515625 -1.421875 17.65625 -0.515625 \nQ 12.796875 0.390625 7.625 2.203125 \nL 7.625 11.71875 \nQ 11.71875 9.328125 16.59375 8.109375 \nQ 21.484375 6.890625 26.8125 6.890625 \nQ 36.078125 6.890625 40.9375 10.546875 \nQ 45.796875 14.203125 45.796875 21.1875 \nQ 45.796875 27.640625 41.28125 31.265625 \nQ 36.765625 34.90625 28.71875 34.90625 \nL 20.21875 34.90625 \nL 20.21875 43.015625 \nL 29.109375 43.015625 \nQ 36.375 43.015625 40.234375 45.921875 \nQ 44.09375 48.828125 44.09375 54.296875 \nQ 44.09375 59.90625 40.109375 62.90625 \nQ 36.140625 65.921875 28.71875 65.921875 \nQ 24.65625 65.921875 20.015625 65.03125 \nQ 15.375 64.15625 9.8125 62.3125 \nL 9.8125 71.09375 \nQ 15.4375 72.65625 20.34375 73.4375 \nQ 25.25 74.21875 29.59375 74.21875 \nQ 40.828125 74.21875 47.359375 69.109375 \nQ 53.90625 64.015625 53.90625 55.328125 \nQ 53.90625 49.265625 50.4375 45.09375 \nQ 46.96875 40.921875 40.578125 39.3125 \nz\n\" id=\"DejaVuSans-51\"/>\n     </defs>\n     <g transform=\"translate(213.321787 157.933622)scale(0.12 -0.12)\">\n      <use xlink:href=\"#DejaVuSans-51\"/>\n     </g>\n    </g>\n   </g>\n   <g id=\"text_4\">\n    <g clip-path=\"url(#pbef7b83baf)\">\n     <!-- 4 -->\n     <defs>\n      <path d=\"M 37.796875 64.3125 \nL 12.890625 25.390625 \nL 37.796875 25.390625 \nz\nM 35.203125 72.90625 \nL 47.609375 72.90625 \nL 47.609375 25.390625 \nL 58.015625 25.390625 \nL 58.015625 17.1875 \nL 47.609375 17.1875 \nL 47.609375 0 \nL 37.796875 0 \nL 37.796875 17.1875 \nL 4.890625 17.1875 \nL 4.890625 26.703125 \nz\n\" id=\"DejaVuSans-52\"/>\n     </defs>\n     <g transform=\"translate(309.129607 209.08249)scale(0.12 -0.12)\">\n      <use xlink:href=\"#DejaVuSans-52\"/>\n     </g>\n    </g>\n   </g>\n   <g id=\"text_5\">\n    <g clip-path=\"url(#pbef7b83baf)\">\n     <!-- 5 -->\n     <defs>\n      <path d=\"M 10.796875 72.90625 \nL 49.515625 72.90625 \nL 49.515625 64.59375 \nL 19.828125 64.59375 \nL 19.828125 46.734375 \nQ 21.96875 47.46875 24.109375 47.828125 \nQ 26.265625 48.1875 28.421875 48.1875 \nQ 40.625 48.1875 47.75 41.5 \nQ 54.890625 34.8125 54.890625 23.390625 \nQ 54.890625 11.625 47.5625 5.09375 \nQ 40.234375 -1.421875 26.90625 -1.421875 \nQ 22.3125 -1.421875 17.546875 -0.640625 \nQ 12.796875 0.140625 7.71875 1.703125 \nL 7.71875 11.625 \nQ 12.109375 9.234375 16.796875 8.0625 \nQ 21.484375 6.890625 26.703125 6.890625 \nQ 35.15625 6.890625 40.078125 11.328125 \nQ 45.015625 15.765625 45.015625 23.390625 \nQ 45.015625 31 40.078125 35.4375 \nQ 35.15625 39.890625 26.703125 39.890625 \nQ 22.75 39.890625 18.8125 39.015625 \nQ 14.890625 38.140625 10.796875 36.28125 \nz\n\" id=\"DejaVuSans-53\"/>\n     </defs>\n     <g transform=\"translate(57.670206 29.38001)scale(0.12 -0.12)\">\n      <use xlink:href=\"#DejaVuSans-53\"/>\n     </g>\n    </g>\n   </g>\n  </g>\n </g>\n <defs>\n  <clipPath id=\"pbef7b83baf\">\n   <rect height=\"217.44\" width=\"334.8\" x=\"7.2\" y=\"7.2\"/>\n  </clipPath>\n </defs>\n</svg>\n",
      "image/png": "[encoded data removed]"
     },
     "metadata": {}
    }
   ],
   "source": [
    "draw_graph(input_graph)"
   ]
  },
  {
   "cell_type": "code",
   "execution_count": 25,
   "metadata": {},
   "outputs": [],
   "source": [
    "def draw_graph(graph):\n",
    "    G = nx.DiGraph(directed=True)\n",
    "    for key in input_graph.graph.keys():\n",
    "        value = input_graph.graph[key]\n",
    "        for key2 in value.keys():\n",
    "            G.add_edge(key, key2, weight=graph.getDistance(key,key2))\n",
    "    # Need to create a layout when doing\n",
    "    options = {\n",
    "        'node_color': 'red',\n",
    "        'node_size': 500,\n",
    "        'width': 3,\n",
    "        'arrowstyle': '-|>',\n",
    "        'arrowsize': 12,\n",
    "    }\n",
    "\n",
    "    pos = nx.spring_layout(G)\n",
    "    nx.draw_networkx(G, arrows=True, **options)\n",
    "    plt.show()"
   ]
  },
  {
   "cell_type": "code",
   "execution_count": 43,
   "metadata": {},
   "outputs": [
    {
     "output_type": "display_data",
     "data": {
      "text/plain": "<Figure size 432x288 with 1 Axes>",
      "image/svg+xml": "<?xml version=\"1.0\" encoding=\"utf-8\" standalone=\"no\"?>\n<!DOCTYPE svg PUBLIC \"-//W3C//DTD SVG 1.1//EN\"\n  \"http://www.w3.org/Graphics/SVG/1.1/DTD/svg11.dtd\">\n<!-- Created with matplotlib (https://matplotlib.org/) -->\n<svg height=\"231.84pt\" version=\"1.1\" viewBox=\"0 0 349.2 231.84\" width=\"349.2pt\" xmlns=\"http://www.w3.org/2000/svg\" xmlns:xlink=\"http://www.w3.org/1999/xlink\">\n <defs>\n  <style type=\"text/css\">\n*{stroke-linecap:butt;stroke-linejoin:round;}\n  </style>\n </defs>\n <g id=\"figure_1\">\n  <g id=\"patch_1\">\n   <path d=\"M 0 231.84 \nL 349.2 231.84 \nL 349.2 0 \nL 0 0 \nz\n\" style=\"fill:none;\"/>\n  </g>\n  <g id=\"axes_1\">\n   <g id=\"patch_2\">\n    <path d=\"M 7.2 224.64 \nL 342 224.64 \nL 342 7.2 \nL 7.2 7.2 \nz\n\" style=\"fill:#ffffff;\"/>\n   </g>\n   <g id=\"patch_3\">\n    <path clip-path=\"url(#p78ed196ac8)\" d=\"M 241.68809 37.129658 \nQ 233.95187 89.103304 226.709464 137.759398 \n\" style=\"fill:none;stroke:#000000;stroke-linecap:round;stroke-width:3;\"/>\n    <path clip-path=\"url(#p78ed196ac8)\" d=\"M 229.79 133.365049 \nL 226.709464 137.759398 \nL 225.042307 132.65836 \nL 229.79 133.365049 \nz\n\" style=\"stroke:#000000;stroke-linecap:round;stroke-width:3;\"/>\n   </g>\n   <g id=\"patch_4\">\n    <path clip-path=\"url(#p78ed196ac8)\" d=\"M 234.125232 157.935305 \nQ 268.757738 178.953307 300.522873 198.231139 \n\" style=\"fill:none;stroke:#000000;stroke-linecap:round;stroke-width:3;\"/>\n    <path clip-path=\"url(#p78ed196ac8)\" d=\"M 297.66459 193.68909 \nL 300.522873 198.231139 \nL 295.174263 197.792536 \nL 297.66459 193.68909 \nz\n\" style=\"stroke:#000000;stroke-linecap:round;stroke-width:3;\"/>\n   </g>\n   <g id=\"patch_5\">\n    <path clip-path=\"url(#p78ed196ac8)\" d=\"M 214.44623 147.389868 \nQ 130.411007 107.990792 49.41268 70.015535 \n\" style=\"fill:none;stroke:#000000;stroke-linecap:round;stroke-width:3;\"/>\n    <path clip-path=\"url(#p78ed196ac8)\" d=\"M 52.739931 74.226164 \nL 49.41268 70.015535 \nL 54.777534 69.880112 \nL 52.739931 74.226164 \nz\n\" style=\"stroke:#000000;stroke-linecap:round;stroke-width:3;\"/>\n   </g>\n   <g id=\"patch_6\">\n    <path clip-path=\"url(#p78ed196ac8)\" d=\"M 303.391388 199.972002 \nQ 268.758882 178.954001 236.993747 159.676168 \n\" style=\"fill:none;stroke:#000000;stroke-linecap:round;stroke-width:3;\"/>\n    <path clip-path=\"url(#p78ed196ac8)\" d=\"M 239.85203 164.218218 \nL 236.993747 159.676168 \nL 242.342357 160.114772 \nL 239.85203 164.218218 \nz\n\" style=\"stroke:#000000;stroke-linecap:round;stroke-width:3;\"/>\n   </g>\n   <g id=\"matplotlib.axis_1\">\n    <g id=\"xtick_1\"/>\n    <g id=\"xtick_2\"/>\n    <g id=\"xtick_3\"/>\n    <g id=\"xtick_4\"/>\n    <g id=\"xtick_5\"/>\n    <g id=\"xtick_6\"/>\n    <g id=\"xtick_7\"/>\n    <g id=\"xtick_8\"/>\n   </g>\n   <g id=\"matplotlib.axis_2\">\n    <g id=\"ytick_1\"/>\n    <g id=\"ytick_2\"/>\n    <g id=\"ytick_3\"/>\n    <g id=\"ytick_4\"/>\n    <g id=\"ytick_5\"/>\n    <g id=\"ytick_6\"/>\n    <g id=\"ytick_7\"/>\n    <g id=\"ytick_8\"/>\n   </g>\n   <g id=\"PathCollection_1\">\n    <defs>\n     <path d=\"M 0 11.18034 \nC 2.965061 11.18034 5.80908 10.002309 7.905694 7.905694 \nC 10.002309 5.80908 11.18034 2.965061 11.18034 0 \nC 11.18034 -2.965061 10.002309 -5.80908 7.905694 -7.905694 \nC 5.80908 -10.002309 2.965061 -11.18034 0 -11.18034 \nC -2.965061 -11.18034 -5.80908 -10.002309 -7.905694 -7.905694 \nC -10.002309 -5.80908 -11.18034 -2.965061 -11.18034 0 \nC -11.18034 2.965061 -10.002309 5.80908 -7.905694 7.905694 \nC -5.80908 10.002309 -2.965061 11.18034 0 11.18034 \nz\n\" id=\"m96ee99259f\" style=\"stroke:#ff0000;\"/>\n    </defs>\n    <g clip-path=\"url(#p78ed196ac8)\">\n     <use style=\"fill:#ff0000;stroke:#ff0000;\" x=\"243.334492\" xlink:href=\"#m96ee99259f\" y=\"26.06876\"/>\n     <use style=\"fill:#ff0000;stroke:#ff0000;\" x=\"224.569513\" xlink:href=\"#m96ee99259f\" y=\"152.136068\"/>\n     <use style=\"fill:#ff0000;stroke:#ff0000;\" x=\"312.947107\" xlink:href=\"#m96ee99259f\" y=\"205.77124\"/>\n     <use style=\"fill:#ff0000;stroke:#ff0000;\" x=\"36.252893\" xlink:href=\"#m96ee99259f\" y=\"63.8457\"/>\n    </g>\n   </g>\n   <g id=\"patch_7\">\n    <path d=\"M 7.2 224.64 \nL 7.2 7.2 \n\" style=\"fill:none;stroke:#000000;stroke-linecap:square;stroke-linejoin:miter;stroke-width:0.8;\"/>\n   </g>\n   <g id=\"patch_8\">\n    <path d=\"M 342 224.64 \nL 342 7.2 \n\" style=\"fill:none;stroke:#000000;stroke-linecap:square;stroke-linejoin:miter;stroke-width:0.8;\"/>\n   </g>\n   <g id=\"patch_9\">\n    <path d=\"M 7.2 224.64 \nL 342 224.64 \n\" style=\"fill:none;stroke:#000000;stroke-linecap:square;stroke-linejoin:miter;stroke-width:0.8;\"/>\n   </g>\n   <g id=\"patch_10\">\n    <path d=\"M 7.2 7.2 \nL 342 7.2 \n\" style=\"fill:none;stroke:#000000;stroke-linecap:square;stroke-linejoin:miter;stroke-width:0.8;\"/>\n   </g>\n   <g id=\"text_1\">\n    <g clip-path=\"url(#p78ed196ac8)\">\n     <!-- 1 -->\n     <defs>\n      <path d=\"M 12.40625 8.296875 \nL 28.515625 8.296875 \nL 28.515625 63.921875 \nL 10.984375 60.40625 \nL 10.984375 69.390625 \nL 28.421875 72.90625 \nL 38.28125 72.90625 \nL 38.28125 8.296875 \nL 54.390625 8.296875 \nL 54.390625 0 \nL 12.40625 0 \nz\n\" id=\"DejaVuSans-49\"/>\n     </defs>\n     <g transform=\"translate(239.516992 29.38001)scale(0.12 -0.12)\">\n      <use xlink:href=\"#DejaVuSans-49\"/>\n     </g>\n    </g>\n   </g>\n   <g id=\"text_2\">\n    <g clip-path=\"url(#p78ed196ac8)\">\n     <!-- 3 -->\n     <defs>\n      <path d=\"M 40.578125 39.3125 \nQ 47.65625 37.796875 51.625 33 \nQ 55.609375 28.21875 55.609375 21.1875 \nQ 55.609375 10.40625 48.1875 4.484375 \nQ 40.765625 -1.421875 27.09375 -1.421875 \nQ 22.515625 -1.421875 17.65625 -0.515625 \nQ 12.796875 0.390625 7.625 2.203125 \nL 7.625 11.71875 \nQ 11.71875 9.328125 16.59375 8.109375 \nQ 21.484375 6.890625 26.8125 6.890625 \nQ 36.078125 6.890625 40.9375 10.546875 \nQ 45.796875 14.203125 45.796875 21.1875 \nQ 45.796875 27.640625 41.28125 31.265625 \nQ 36.765625 34.90625 28.71875 34.90625 \nL 20.21875 34.90625 \nL 20.21875 43.015625 \nL 29.109375 43.015625 \nQ 36.375 43.015625 40.234375 45.921875 \nQ 44.09375 48.828125 44.09375 54.296875 \nQ 44.09375 59.90625 40.109375 62.90625 \nQ 36.140625 65.921875 28.71875 65.921875 \nQ 24.65625 65.921875 20.015625 65.03125 \nQ 15.375 64.15625 9.8125 62.3125 \nL 9.8125 71.09375 \nQ 15.4375 72.65625 20.34375 73.4375 \nQ 25.25 74.21875 29.59375 74.21875 \nQ 40.828125 74.21875 47.359375 69.109375 \nQ 53.90625 64.015625 53.90625 55.328125 \nQ 53.90625 49.265625 50.4375 45.09375 \nQ 46.96875 40.921875 40.578125 39.3125 \nz\n\" id=\"DejaVuSans-51\"/>\n     </defs>\n     <g transform=\"translate(220.752013 155.447318)scale(0.12 -0.12)\">\n      <use xlink:href=\"#DejaVuSans-51\"/>\n     </g>\n    </g>\n   </g>\n   <g id=\"text_3\">\n    <g clip-path=\"url(#p78ed196ac8)\">\n     <!-- 4 -->\n     <defs>\n      <path d=\"M 37.796875 64.3125 \nL 12.890625 25.390625 \nL 37.796875 25.390625 \nz\nM 35.203125 72.90625 \nL 47.609375 72.90625 \nL 47.609375 25.390625 \nL 58.015625 25.390625 \nL 58.015625 17.1875 \nL 47.609375 17.1875 \nL 47.609375 0 \nL 37.796875 0 \nL 37.796875 17.1875 \nL 4.890625 17.1875 \nL 4.890625 26.703125 \nz\n\" id=\"DejaVuSans-52\"/>\n     </defs>\n     <g transform=\"translate(309.129607 209.08249)scale(0.12 -0.12)\">\n      <use xlink:href=\"#DejaVuSans-52\"/>\n     </g>\n    </g>\n   </g>\n   <g id=\"text_4\">\n    <g clip-path=\"url(#p78ed196ac8)\">\n     <!-- 5 -->\n     <defs>\n      <path d=\"M 10.796875 72.90625 \nL 49.515625 72.90625 \nL 49.515625 64.59375 \nL 19.828125 64.59375 \nL 19.828125 46.734375 \nQ 21.96875 47.46875 24.109375 47.828125 \nQ 26.265625 48.1875 28.421875 48.1875 \nQ 40.625 48.1875 47.75 41.5 \nQ 54.890625 34.8125 54.890625 23.390625 \nQ 54.890625 11.625 47.5625 5.09375 \nQ 40.234375 -1.421875 26.90625 -1.421875 \nQ 22.3125 -1.421875 17.546875 -0.640625 \nQ 12.796875 0.140625 7.71875 1.703125 \nL 7.71875 11.625 \nQ 12.109375 9.234375 16.796875 8.0625 \nQ 21.484375 6.890625 26.703125 6.890625 \nQ 35.15625 6.890625 40.078125 11.328125 \nQ 45.015625 15.765625 45.015625 23.390625 \nQ 45.015625 31 40.078125 35.4375 \nQ 35.15625 39.890625 26.703125 39.890625 \nQ 22.75 39.890625 18.8125 39.015625 \nQ 14.890625 38.140625 10.796875 36.28125 \nz\n\" id=\"DejaVuSans-53\"/>\n     </defs>\n     <g transform=\"translate(32.435393 67.15695)scale(0.12 -0.12)\">\n      <use xlink:href=\"#DejaVuSans-53\"/>\n     </g>\n    </g>\n   </g>\n  </g>\n </g>\n <defs>\n  <clipPath id=\"p78ed196ac8\">\n   <rect height=\"217.44\" width=\"334.8\" x=\"7.2\" y=\"7.2\"/>\n  </clipPath>\n </defs>\n</svg>\n",
      "image/png": "[encoded data removed]"
     },
     "metadata": {}
    }
   ],
   "source": [
    "draw(input_graph,'13435')"
   ]
  },
  {
   "cell_type": "code",
   "execution_count": null,
   "metadata": {},
   "outputs": [],
   "source": []
  }
 ]
}