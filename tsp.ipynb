{
 "metadata": {
  "language_info": {
   "codemirror_mode": {
    "name": "ipython",
    "version": 3
   },
   "file_extension": ".py",
   "mimetype": "text/x-python",
   "name": "python",
   "nbconvert_exporter": "python",
   "pygments_lexer": "ipython3",
   "version": "3.6.9-final"
  },
  "orig_nbformat": 2,
  "kernelspec": {
   "name": "python36964bitbertcondafe76e7349f53486ca9029903b6e40edd",
   "display_name": "Python 3.6.9 64-bit ('bert': conda)"
  }
 },
 "nbformat": 4,
 "nbformat_minor": 2,
 "cells": [
  {
   "cell_type": "code",
   "execution_count": 1,
   "metadata": {},
   "outputs": [],
   "source": [
    "from Graph_directed import Graph\n",
    "from GeneticAlgorithmTSP import GeneticAlgorithmTSP\n",
    "import heapq"
   ]
  },
  {
   "cell_type": "code",
   "execution_count": 2,
   "metadata": {},
   "outputs": [],
   "source": [
    "def dijsktra(graph, initial):\n",
    "  visited = {initial: 0}\n",
    "  path = {}\n",
    "\n",
    "  nodes = set(graph.getVertices())\n",
    "\n",
    "  while nodes: \n",
    "    min_node = None\n",
    "    for node in nodes:\n",
    "      if node in visited:\n",
    "        if min_node is None:\n",
    "          min_node = node\n",
    "        elif visited[node] < visited[min_node]:\n",
    "          min_node = node\n",
    "\n",
    "    if min_node is None:\n",
    "      break\n",
    "\n",
    "    nodes.remove(min_node)\n",
    "    current_weight = visited[min_node]\n",
    "\n",
    "    for edge in graph.getAdjacent(min_node):\n",
    "      weight = current_weight + graph.getDistance(min_node, edge)\n",
    "      if edge not in visited or weight < visited[edge]:\n",
    "        visited[edge] = weight\n",
    "        path[edge] = min_node\n",
    "\n",
    "  return visited, path"
   ]
  },
  {
   "cell_type": "code",
   "execution_count": 3,
   "metadata": {},
   "outputs": [],
   "source": [
    "def int_data(data):\n",
    "    out = []\n",
    "    for item in data:\n",
    "        out.append(int(item))\n",
    "    return out"
   ]
  },
  {
   "cell_type": "code",
   "execution_count": 4,
   "metadata": {},
   "outputs": [],
   "source": [
    "graph = Graph()\n",
    "sfc = []\n",
    "with open(\"input.txt\",\"r\") as f:\n",
    "    n,m = int_data(f.readline().split())\n",
    "    for _ in range(m):\n",
    "        a,b,c = f.readline().split()\n",
    "        graph.setAdjacent(a, b, int(c))\n",
    "    start,finish = f.readline().split()\n",
    "    num_sfc = int(f.readline())\n",
    "    for _ in range(num_sfc):\n",
    "        sfc.append(int_data(f.readline().split()))\n",
    "graph.setStartEnd(start,finish)"
   ]
  },
  {
   "cell_type": "code",
   "execution_count": 7,
   "metadata": {},
   "outputs": [
    {
     "output_type": "execute_result",
     "data": {
      "text/plain": [
       "({'1': 0, '2': 3, '3': 1, '4': 4, '5': 2},\n",
       " {'2': '1', '3': '1', '4': '3', '5': '3'})"
      ]
     },
     "metadata": {},
     "execution_count": 7
    }
   ],
   "source": [
    "dijsktra(graph,'1')"
   ]
  },
  {
   "cell_type": "code",
   "execution_count": null,
   "metadata": {},
   "outputs": [],
   "source": []
  }
 ]
}